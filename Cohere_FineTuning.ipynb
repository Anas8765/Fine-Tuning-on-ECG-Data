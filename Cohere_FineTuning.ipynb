{
  "nbformat": 4,
  "nbformat_minor": 0,
  "metadata": {
    "colab": {
      "provenance": []
    },
    "kernelspec": {
      "name": "python3",
      "display_name": "Python 3"
    },
    "language_info": {
      "name": "python"
    }
  },
  "cells": [
    {
      "cell_type": "code",
      "source": [
        "!pip install cohere"
      ],
      "metadata": {
        "id": "7bT8rwWfw_Jh"
      },
      "execution_count": null,
      "outputs": []
    },
    {
      "cell_type": "code",
      "execution_count": null,
      "metadata": {
        "id": "TWd00P-ipCKA"
      },
      "outputs": [],
      "source": [
        "import pandas as pd\n",
        "from sklearn.model_selection import train_test_split\n",
        "\n",
        "# Read the CSV file into a DataFrame\n",
        "df = pd.read_csv('Your_data.csv')\n",
        "\n",
        "# Split the dataset into 80% train and 20% test\n",
        "train_df, test_df = train_test_split(df, test_size=0.2, random_state=42)\n",
        "\n",
        "# Write the train and test DataFrames to separate CSV files\n",
        "train_df.to_csv('train.csv', index=False)\n",
        "test_df.to_csv('test.csv', index=False)\n"
      ]
    },
    {
      "cell_type": "code",
      "source": [
        "import csv\n",
        "import json\n",
        "\n",
        "# Function to read CSV file and convert data to JSON Lines format\n",
        "def csv_to_jsonl(csv_file, output_file):\n",
        "    # Open JSON Lines output file\n",
        "    with open(output_file, 'w') as jsonl_file:\n",
        "        # Read CSV file\n",
        "        with open(csv_file, 'r') as file:\n",
        "            reader = csv.DictReader(file)\n",
        "            for row in reader:\n",
        "                # Create JSON object for system message\n",
        "                system_message = {\"role\": \"System\", \"content\": \"You are an expert in determining biological age of people based on their PPG features.\"}\n",
        "                # Create JSON object for user message\n",
        "                user_message = {\"role\": \"User\", \"content\": row[\"text\"]}\n",
        "                # Create JSON object for chatbot message with age\n",
        "                chatbot_message = {\"role\": \"Chatbot\", \"content\": row[\"Age\"]}\n",
        "                # Construct message set\n",
        "                message_set = {\"messages\": [system_message, user_message, chatbot_message]}\n",
        "                # Write message set to JSON Lines file\n",
        "                jsonl_file.write(json.dumps(message_set, indent=2) + '\\n')\n",
        "\n",
        "# Example usage:\n",
        "csv_file = \"put your test and train data\"  # Replace with your CSV file path\n",
        "jsonl_output_file = \"output.jsonl\"  # Replace with desired output file path\n",
        "csv_to_jsonl(csv_file, jsonl_output_file)\n"
      ],
      "metadata": {
        "id": "ApLQEwDEw0G4"
      },
      "execution_count": null,
      "outputs": []
    },
    {
      "cell_type": "code",
      "source": [
        "import csv\n",
        "import cohere\n",
        "import time\n",
        "\n",
        "# Initialize cohere client\n",
        "co = cohere.Client('Your API Key')\n",
        "\n",
        "# Function to send message and get response\n",
        "def get_response(message):\n",
        "    response = co.chat(\n",
        "        model='Your Pre-trained Model ID',\n",
        "        message=message)\n",
        "    return response.text\n",
        "\n",
        "# Read input CSV file\n",
        "input_file = 'Your input.csv'\n",
        "\n",
        "# Output CSV file\n",
        "output_file = 'predict.csv'\n",
        "\n",
        "# Counter to keep track of API calls\n",
        "api_call_counter = 0\n",
        "\n",
        "with open(input_file, 'r') as csv_input, open(output_file, 'a', newline='') as csv_output:\n",
        "    csv_reader = csv.reader(csv_input)\n",
        "    csv_writer = csv.writer(csv_output)\n",
        "\n",
        "    # If the output CSV file is empty, write headers\n",
        "    if csv_output.tell() == 0:\n",
        "        csv_writer.writerow(['Input', 'Response'])\n",
        "\n",
        "    for row in csv_reader:\n",
        "        input_message = row[0]  # Assuming the message is in the first column of each row\n",
        "\n",
        "        # Get response for the input message\n",
        "        response_text = get_response(input_message)\n",
        "\n",
        "        # Write input message and response to output CSV\n",
        "        csv_writer.writerow([input_message, response_text])\n",
        "\n",
        "        # Increment API call counter\n",
        "        api_call_counter += 1\n",
        "\n",
        "        # Check if 20 API calls have been made\n",
        "        if api_call_counter % 20 == 0:\n",
        "            # Introduce a 60-second delay\n",
        "            time.sleep(60)\n",
        "        else:\n",
        "            # Introduce a 1-second delay for all other API calls\n",
        "            time.sleep(1)\n",
        "\n",
        "print(\"CSV file with responses generated successfully.\")"
      ],
      "metadata": {
        "id": "nxQVY1QEw9CO"
      },
      "execution_count": null,
      "outputs": []
    }
  ]
}